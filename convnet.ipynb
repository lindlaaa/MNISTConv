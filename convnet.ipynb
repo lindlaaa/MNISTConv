{
 "cells": [
  {
   "cell_type": "code",
   "execution_count": 1,
   "id": "8e4df533-468d-487a-879f-b3141c63059f",
   "metadata": {
    "tags": []
   },
   "outputs": [
    {
     "name": "stderr",
     "output_type": "stream",
     "text": [
      "C:\\Users\\miste\\AppData\\Roaming\\Python\\Python39\\site-packages\\tqdm\\auto.py:22: TqdmWarning: IProgress not found. Please update jupyter and ipywidgets. See https://ipywidgets.readthedocs.io/en/stable/user_install.html\n",
      "  from .autonotebook import tqdm as notebook_tqdm\n"
     ]
    }
   ],
   "source": [
    "import os\n",
    "import numpy as np\n",
    "import cv2\n",
    "from tqdm import tqdm\n",
    "import torch\n",
    "import wandb\n",
    "import torch.nn as nn\n",
    "import torch.nn.functional as F\n",
    "import torch.optim as optim\n",
    "\n",
    "KERNEL_SIZE = 3\n",
    "LEARNING_RATE = 0.0005\n",
    "IMG_SIZE = 28 \n",
    "training_data = []"
   ]
  },
  {
   "cell_type": "code",
   "execution_count": 2,
   "id": "39e22bf4-a669-48f9-883f-61c5fa5db734",
   "metadata": {},
   "outputs": [
    {
     "name": "stdout",
     "output_type": "stream",
     "text": [
      "GPU run.\n"
     ]
    },
    {
     "name": "stderr",
     "output_type": "stream",
     "text": [
      "\u001b[34m\u001b[1mwandb\u001b[0m: Currently logged in as: \u001b[33mlindlaaa\u001b[0m. Use \u001b[1m`wandb login --relogin`\u001b[0m to force relogin\n"
     ]
    },
    {
     "data": {
      "text/html": [
       "Tracking run with wandb version 0.13.5"
      ],
      "text/plain": [
       "<IPython.core.display.HTML object>"
      ]
     },
     "metadata": {},
     "output_type": "display_data"
    },
    {
     "data": {
      "text/html": [
       "Run data is saved locally in <code>C:\\Users\\miste\\Documents\\Jupyter\\mnistconv\\wandb\\run-20221108_114649-1os2f1ug</code>"
      ],
      "text/plain": [
       "<IPython.core.display.HTML object>"
      ]
     },
     "metadata": {},
     "output_type": "display_data"
    },
    {
     "data": {
      "text/html": [
       "Syncing run <strong><a href=\"https://wandb.ai/lindlaaa/mnist-conv/runs/1os2f1ug\" target=\"_blank\">fresh-puddle-16</a></strong> to <a href=\"https://wandb.ai/lindlaaa/mnist-conv\" target=\"_blank\">Weights & Biases</a> (<a href=\"https://wandb.me/run\" target=\"_blank\">docs</a>)<br/>"
      ],
      "text/plain": [
       "<IPython.core.display.HTML object>"
      ]
     },
     "metadata": {},
     "output_type": "display_data"
    },
    {
     "data": {
      "text/html": [
       "<button onClick=\"this.nextSibling.style.display='block';this.style.display='none';\">Display W&B run</button><iframe src=\"https://wandb.ai/lindlaaa/mnist-conv/runs/1os2f1ug?jupyter=true\" style=\"border:none;width:100%;height:420px;display:none;\"></iframe>"
      ],
      "text/plain": [
       "<wandb.sdk.wandb_run.Run at 0x2361149b6d0>"
      ]
     },
     "execution_count": 2,
     "metadata": {},
     "output_type": "execute_result"
    }
   ],
   "source": [
    "device = torch.device(\"cuda:0\")\n",
    "if torch.cuda.is_available():\n",
    "    device = torch.device(\"cuda:0\")\n",
    "    print(\"GPU run.\")\n",
    "else:\n",
    "    device = torch.device(\"cpu\")\n",
    "    print(\"CPU run.\")\n",
    "\n",
    "wandb.config = {\n",
    "}\n",
    "wandb.init(project=\"mnist-conv\")"
   ]
  },
  {
   "cell_type": "code",
   "execution_count": 3,
   "id": "8105680d-caff-40da-af89-996da550b929",
   "metadata": {},
   "outputs": [
    {
     "name": "stdout",
     "output_type": "stream",
     "text": [
      "CNN(\n",
      "  (conv1): Sequential(\n",
      "    (0): Conv2d(1, 16, kernel_size=(5, 5), stride=(1, 1), padding=(2, 2))\n",
      "    (1): ReLU()\n",
      "    (2): MaxPool2d(kernel_size=2, stride=2, padding=0, dilation=1, ceil_mode=False)\n",
      "  )\n",
      "  (conv2): Sequential(\n",
      "    (0): Conv2d(16, 32, kernel_size=(5, 5), stride=(1, 1), padding=(2, 2))\n",
      "    (1): ReLU()\n",
      "    (2): MaxPool2d(kernel_size=2, stride=2, padding=0, dilation=1, ceil_mode=False)\n",
      "  )\n",
      "  (out): Linear(in_features=1568, out_features=10, bias=True)\n",
      ")\n"
     ]
    }
   ],
   "source": [
    "class CNN(nn.Module):\n",
    "    def __init__(self):\n",
    "        super(CNN, self).__init__()\n",
    "        self.conv1 = nn.Sequential(         \n",
    "            nn.Conv2d(\n",
    "                in_channels=1,              \n",
    "                out_channels=16,            \n",
    "                kernel_size=5,              \n",
    "                stride=1,                   \n",
    "                padding=2,                  \n",
    "            ),                              \n",
    "            nn.ReLU(),                      \n",
    "            nn.MaxPool2d(kernel_size=2),    \n",
    "        )\n",
    "        self.conv2 = nn.Sequential(         \n",
    "            nn.Conv2d(16, 32, 5, 1, 2),     \n",
    "            nn.ReLU(),                      \n",
    "            nn.MaxPool2d(2),                \n",
    "        )\n",
    "        # fully connected layer, output 10 classes\n",
    "        self.out = nn.Linear(32 * 7 * 7, 10)\n",
    "    def forward(self, x):\n",
    "        x = self.conv1(x)\n",
    "        x = self.conv2(x)\n",
    "        # flatten the output of conv2 to (batch_size, 32 * 7 * 7)\n",
    "        x = x.view(x.size(0), -1)       \n",
    "        output = self.out(x)\n",
    "        return output, x    # return x for visualization\n",
    "        \n",
    "net = CNN().to(device)\n",
    "wandb.watch(net)\n",
    "\n",
    "optimizer = optim.Adam(params=net.parameters(), lr=LEARNING_RATE)\n",
    "loss_function = nn.CrossEntropyLoss()\n",
    "\n",
    "print(net)"
   ]
  },
  {
   "cell_type": "code",
   "execution_count": 4,
   "id": "a4b81029-b0f4-45c2-a8bd-e7bc29ae3b48",
   "metadata": {},
   "outputs": [],
   "source": [
    "from torchvision import datasets\n",
    "from torchvision.transforms import ToTensor\n",
    "train_data = datasets.MNIST(\n",
    "    root = 'data',\n",
    "    train = True,                         \n",
    "    transform = ToTensor(), \n",
    "    download = True,            \n",
    ")\n",
    "test_data = datasets.MNIST(\n",
    "    root = 'data', \n",
    "    train = False, \n",
    "    transform = ToTensor()\n",
    ")\n"
   ]
  },
  {
   "cell_type": "code",
   "execution_count": 5,
   "id": "0327aca1-7a1f-4318-adbb-04b9a0ac6581",
   "metadata": {},
   "outputs": [
    {
     "data": {
      "image/png": "[encoded data removed]",
      "text/plain": [
       "<Figure size 640x480 with 1 Axes>"
      ]
     },
     "metadata": {},
     "output_type": "display_data"
    },
    {
     "data": {
      "image/png": "[encoded data removed]",
      "text/plain": [
       "<Figure size 1000x800 with 25 Axes>"
      ]
     },
     "metadata": {},
     "output_type": "display_data"
    }
   ],
   "source": [
    "import matplotlib.pyplot as plt\n",
    "plt.imshow(train_data.data[0], cmap='gray')\n",
    "plt.title('%i' % train_data.targets[0])\n",
    "plt.show()\n",
    "\n",
    "figure = plt.figure(figsize=(10, 8))\n",
    "cols, rows = 5, 5\n",
    "for i in range(1, cols * rows + 1):\n",
    "    sample_idx = torch.randint(len(train_data), size=(1,)).item()\n",
    "    img, label = train_data[sample_idx]\n",
    "    figure.add_subplot(rows, cols, i)\n",
    "    plt.title(label)\n",
    "    plt.axis(\"off\")\n",
    "    plt.imshow(img.squeeze(), cmap=\"gray\")\n",
    "plt.show()"
   ]
  },
  {
   "cell_type": "code",
   "execution_count": 6,
   "id": "d20022cd-4a0e-4d30-8967-b5e96c837818",
   "metadata": {},
   "outputs": [
    {
     "data": {
      "text/plain": [
       "{'train': <torch.utils.data.dataloader.DataLoader at 0x236303f0250>,\n",
       " 'test': <torch.utils.data.dataloader.DataLoader at 0x2362ecdc3d0>}"
      ]
     },
     "execution_count": 6,
     "metadata": {},
     "output_type": "execute_result"
    }
   ],
   "source": [
    "from torch.utils.data import DataLoader\n",
    "loaders = {\n",
    "    'train' : torch.utils.data.DataLoader(train_data, \n",
    "                                          batch_size=100, \n",
    "                                          shuffle=True, \n",
    "                                          num_workers=1),\n",
    "    \n",
    "    'test'  : torch.utils.data.DataLoader(test_data, \n",
    "                                          batch_size=100, \n",
    "                                          shuffle=True, \n",
    "                                          num_workers=1),\n",
    "}\n",
    "loaders"
   ]
  },
  {
   "cell_type": "code",
   "execution_count": 7,
   "id": "1c5c00f9-b291-4218-bf17-d732559bca92",
   "metadata": {},
   "outputs": [],
   "source": [
    "def test(size=len(loaders['test'])):\n",
    "    # Test the model\n",
    "    net.eval()\n",
    "    with torch.no_grad():\n",
    "        correct = 0\n",
    "        total = 0\n",
    "        i = 0\n",
    "        for images, labels in loaders['test']:\n",
    "            i += 1\n",
    "            images = images.to(device)\n",
    "            labels = labels.to(device)\n",
    "            test_output, last_layer = net(images)\n",
    "            pred_y = torch.max(test_output, 1)[1].data.squeeze()\n",
    "            accuracy = (pred_y == labels).sum().item() / float(labels.size(0))\n",
    "            if i >= size:\n",
    "                print(i)\n",
    "                break\n",
    "            pass\n",
    "        print(i)\n",
    "        return accuracy"
   ]
  },
  {
   "cell_type": "code",
   "execution_count": 8,
   "id": "df33dc71-c09d-4d8d-b2be-efa90372aea5",
   "metadata": {},
   "outputs": [
    {
     "name": "stderr",
     "output_type": "stream",
     "text": [
      "  0%|                                                                                                         | 0/10 [00:00<?, ?it/s]"
     ]
    },
    {
     "name": "stdout",
     "output_type": "stream",
     "text": [
      "10\n",
      "10\n",
      "Epoch [1/10], Step [100/600], Loss: 0.4811, eval_acc: 0.8500\n",
      "10\n",
      "10\n",
      "Epoch [1/10], Step [200/600], Loss: 0.1650, eval_acc: 0.9400\n",
      "10\n",
      "10\n",
      "Epoch [1/10], Step [300/600], Loss: 0.2568, eval_acc: 0.9600\n",
      "10\n",
      "10\n",
      "Epoch [1/10], Step [400/600], Loss: 0.1153, eval_acc: 0.9600\n",
      "10\n",
      "10\n",
      "Epoch [1/10], Step [500/600], Loss: 0.1128, eval_acc: 1.0000\n",
      "10\n",
      "10\n",
      "Epoch [1/10], Step [600/600], Loss: 0.1715, eval_acc: 0.9900\n"
     ]
    },
    {
     "name": "stderr",
     "output_type": "stream",
     "text": [
      " 10%|█████████▋                                                                                       | 1/10 [00:23<03:32, 23.62s/it]"
     ]
    },
    {
     "name": "stdout",
     "output_type": "stream",
     "text": [
      "100\n",
      "100\n",
      "Epoch [1/10], eval_acc: 0.9900\n",
      "10\n",
      "10\n",
      "Epoch [2/10], Step [100/600], Loss: 0.0769, eval_acc: 0.9400\n",
      "10\n",
      "10\n",
      "Epoch [2/10], Step [200/600], Loss: 0.1193, eval_acc: 0.9900\n",
      "10\n",
      "10\n",
      "Epoch [2/10], Step [300/600], Loss: 0.0440, eval_acc: 1.0000\n",
      "10\n",
      "10\n",
      "Epoch [2/10], Step [400/600], Loss: 0.0922, eval_acc: 0.9800\n",
      "10\n",
      "10\n",
      "Epoch [2/10], Step [500/600], Loss: 0.1275, eval_acc: 0.9800\n",
      "10\n",
      "10\n",
      "Epoch [2/10], Step [600/600], Loss: 0.0626, eval_acc: 0.9700\n"
     ]
    },
    {
     "name": "stderr",
     "output_type": "stream",
     "text": [
      " 20%|███████████████████▍                                                                             | 2/10 [00:44<02:57, 22.15s/it]"
     ]
    },
    {
     "name": "stdout",
     "output_type": "stream",
     "text": [
      "100\n",
      "100\n",
      "Epoch [2/10], eval_acc: 0.9700\n",
      "10\n",
      "10\n",
      "Epoch [3/10], Step [100/600], Loss: 0.1265, eval_acc: 1.0000\n",
      "10\n",
      "10\n",
      "Epoch [3/10], Step [200/600], Loss: 0.0215, eval_acc: 0.9700\n",
      "10\n",
      "10\n",
      "Epoch [3/10], Step [300/600], Loss: 0.0478, eval_acc: 0.9900\n",
      "10\n",
      "10\n",
      "Epoch [3/10], Step [400/600], Loss: 0.0580, eval_acc: 1.0000\n",
      "10\n",
      "10\n",
      "Epoch [3/10], Step [500/600], Loss: 0.0711, eval_acc: 0.9900\n",
      "10\n",
      "10\n",
      "Epoch [3/10], Step [600/600], Loss: 0.0523, eval_acc: 1.0000\n"
     ]
    },
    {
     "name": "stderr",
     "output_type": "stream",
     "text": [
      " 30%|█████████████████████████████                                                                    | 3/10 [01:05<02:32, 21.74s/it]"
     ]
    },
    {
     "name": "stdout",
     "output_type": "stream",
     "text": [
      "100\n",
      "100\n",
      "Epoch [3/10], eval_acc: 1.0000\n",
      "10\n",
      "10\n",
      "Epoch [4/10], Step [100/600], Loss: 0.0359, eval_acc: 0.9800\n",
      "10\n",
      "10\n",
      "Epoch [4/10], Step [200/600], Loss: 0.0204, eval_acc: 0.9900\n",
      "10\n",
      "10\n",
      "Epoch [4/10], Step [300/600], Loss: 0.0985, eval_acc: 0.9600\n",
      "10\n",
      "10\n",
      "Epoch [4/10], Step [400/600], Loss: 0.0708, eval_acc: 0.9900\n",
      "10\n",
      "10\n",
      "Epoch [4/10], Step [500/600], Loss: 0.0146, eval_acc: 0.9600\n",
      "10\n",
      "10\n",
      "Epoch [4/10], Step [600/600], Loss: 0.0219, eval_acc: 0.9900\n"
     ]
    },
    {
     "name": "stderr",
     "output_type": "stream",
     "text": [
      " 40%|██████████████████████████████████████▊                                                          | 4/10 [01:27<02:09, 21.52s/it]"
     ]
    },
    {
     "name": "stdout",
     "output_type": "stream",
     "text": [
      "100\n",
      "100\n",
      "Epoch [4/10], eval_acc: 0.9900\n",
      "10\n",
      "10\n",
      "Epoch [5/10], Step [100/600], Loss: 0.1039, eval_acc: 0.9900\n",
      "10\n",
      "10\n",
      "Epoch [5/10], Step [200/600], Loss: 0.0265, eval_acc: 1.0000\n",
      "10\n",
      "10\n",
      "Epoch [5/10], Step [300/600], Loss: 0.0090, eval_acc: 0.9800\n",
      "10\n",
      "10\n",
      "Epoch [5/10], Step [400/600], Loss: 0.0298, eval_acc: 1.0000\n",
      "10\n",
      "10\n",
      "Epoch [5/10], Step [500/600], Loss: 0.0896, eval_acc: 0.9700\n",
      "10\n",
      "10\n",
      "Epoch [5/10], Step [600/600], Loss: 0.0186, eval_acc: 1.0000\n"
     ]
    },
    {
     "name": "stderr",
     "output_type": "stream",
     "text": [
      " 50%|████████████████████████████████████████████████▌                                                | 5/10 [01:48<01:46, 21.36s/it]"
     ]
    },
    {
     "name": "stdout",
     "output_type": "stream",
     "text": [
      "100\n",
      "100\n",
      "Epoch [5/10], eval_acc: 1.0000\n",
      "10\n",
      "10\n",
      "Epoch [6/10], Step [100/600], Loss: 0.0039, eval_acc: 1.0000\n",
      "10\n",
      "10\n",
      "Epoch [6/10], Step [200/600], Loss: 0.0098, eval_acc: 1.0000\n",
      "10\n",
      "10\n",
      "Epoch [6/10], Step [300/600], Loss: 0.0696, eval_acc: 0.9700\n",
      "10\n",
      "10\n",
      "Epoch [6/10], Step [400/600], Loss: 0.0236, eval_acc: 1.0000\n",
      "10\n",
      "10\n",
      "Epoch [6/10], Step [500/600], Loss: 0.0242, eval_acc: 0.9800\n",
      "10\n",
      "10\n",
      "Epoch [6/10], Step [600/600], Loss: 0.0195, eval_acc: 1.0000\n"
     ]
    },
    {
     "name": "stderr",
     "output_type": "stream",
     "text": [
      " 60%|██████████████████████████████████████████████████████████▏                                      | 6/10 [02:09<01:25, 21.29s/it]"
     ]
    },
    {
     "name": "stdout",
     "output_type": "stream",
     "text": [
      "100\n",
      "100\n",
      "Epoch [6/10], eval_acc: 1.0000\n",
      "10\n",
      "10\n",
      "Epoch [7/10], Step [100/600], Loss: 0.0152, eval_acc: 0.9700\n",
      "10\n",
      "10\n",
      "Epoch [7/10], Step [200/600], Loss: 0.0713, eval_acc: 1.0000\n",
      "10\n",
      "10\n",
      "Epoch [7/10], Step [300/600], Loss: 0.1127, eval_acc: 0.9900\n",
      "10\n",
      "10\n",
      "Epoch [7/10], Step [400/600], Loss: 0.0453, eval_acc: 0.9700\n",
      "10\n",
      "10\n",
      "Epoch [7/10], Step [500/600], Loss: 0.0206, eval_acc: 1.0000\n",
      "10\n",
      "10\n",
      "Epoch [7/10], Step [600/600], Loss: 0.0106, eval_acc: 0.9900\n"
     ]
    },
    {
     "name": "stderr",
     "output_type": "stream",
     "text": [
      " 70%|███████████████████████████████████████████████████████████████████▉                             | 7/10 [02:30<01:03, 21.24s/it]"
     ]
    },
    {
     "name": "stdout",
     "output_type": "stream",
     "text": [
      "100\n",
      "100\n",
      "Epoch [7/10], eval_acc: 0.9900\n",
      "10\n",
      "10\n",
      "Epoch [8/10], Step [100/600], Loss: 0.0205, eval_acc: 1.0000\n",
      "10\n",
      "10\n",
      "Epoch [8/10], Step [200/600], Loss: 0.0045, eval_acc: 1.0000\n",
      "10\n",
      "10\n",
      "Epoch [8/10], Step [300/600], Loss: 0.1350, eval_acc: 0.9900\n",
      "10\n",
      "10\n",
      "Epoch [8/10], Step [400/600], Loss: 0.0640, eval_acc: 1.0000\n",
      "10\n",
      "10\n",
      "Epoch [8/10], Step [500/600], Loss: 0.0036, eval_acc: 0.9700\n",
      "10\n",
      "10\n",
      "Epoch [8/10], Step [600/600], Loss: 0.0878, eval_acc: 1.0000\n"
     ]
    },
    {
     "name": "stderr",
     "output_type": "stream",
     "text": [
      " 80%|█████████████████████████████████████████████████████████████████████████████▌                   | 8/10 [02:51<00:42, 21.21s/it]"
     ]
    },
    {
     "name": "stdout",
     "output_type": "stream",
     "text": [
      "100\n",
      "100\n",
      "Epoch [8/10], eval_acc: 1.0000\n",
      "10\n",
      "10\n",
      "Epoch [9/10], Step [100/600], Loss: 0.0403, eval_acc: 1.0000\n",
      "10\n",
      "10\n",
      "Epoch [9/10], Step [200/600], Loss: 0.0338, eval_acc: 0.9900\n",
      "10\n",
      "10\n",
      "Epoch [9/10], Step [300/600], Loss: 0.1044, eval_acc: 0.9700\n",
      "10\n",
      "10\n",
      "Epoch [9/10], Step [400/600], Loss: 0.0268, eval_acc: 0.9900\n",
      "10\n",
      "10\n",
      "Epoch [9/10], Step [500/600], Loss: 0.0017, eval_acc: 1.0000\n",
      "10\n",
      "10\n",
      "Epoch [9/10], Step [600/600], Loss: 0.0325, eval_acc: 1.0000\n"
     ]
    },
    {
     "name": "stderr",
     "output_type": "stream",
     "text": [
      " 90%|███████████████████████████████████████████████████████████████████████████████████████▎         | 9/10 [03:12<00:21, 21.17s/it]"
     ]
    },
    {
     "name": "stdout",
     "output_type": "stream",
     "text": [
      "100\n",
      "100\n",
      "Epoch [9/10], eval_acc: 1.0000\n",
      "10\n",
      "10\n",
      "Epoch [10/10], Step [100/600], Loss: 0.0084, eval_acc: 0.9900\n",
      "10\n",
      "10\n",
      "Epoch [10/10], Step [200/600], Loss: 0.0200, eval_acc: 0.9900\n",
      "10\n",
      "10\n",
      "Epoch [10/10], Step [300/600], Loss: 0.0087, eval_acc: 1.0000\n",
      "10\n",
      "10\n",
      "Epoch [10/10], Step [400/600], Loss: 0.0098, eval_acc: 1.0000\n",
      "10\n",
      "10\n",
      "Epoch [10/10], Step [500/600], Loss: 0.0062, eval_acc: 1.0000\n",
      "10\n",
      "10\n",
      "Epoch [10/10], Step [600/600], Loss: 0.0084, eval_acc: 1.0000\n"
     ]
    },
    {
     "name": "stderr",
     "output_type": "stream",
     "text": [
      "100%|████████████████████████████████████████████████████████████████████████████████████████████████| 10/10 [03:33<00:00, 21.39s/it]"
     ]
    },
    {
     "name": "stdout",
     "output_type": "stream",
     "text": [
      "100\n",
      "100\n",
      "Epoch [10/10], eval_acc: 1.0000\n"
     ]
    },
    {
     "name": "stderr",
     "output_type": "stream",
     "text": [
      "\n"
     ]
    }
   ],
   "source": [
    "from torch.autograd import Variable\n",
    "num_epochs = 10\n",
    "\n",
    "def train(num_epochs, cnn, loaders):\n",
    "    \n",
    "    cnn.train()\n",
    "        \n",
    "    # Train the model\n",
    "    total_step = len(loaders['train'])\n",
    "        \n",
    "    for epoch in tqdm(range(num_epochs)):\n",
    "        for i, (images, labels) in enumerate(loaders['train']):\n",
    "            \n",
    "            # gives batch data, normalize x when iterate train_loader\n",
    "            b_x = Variable(images).to(device)   # batch x\n",
    "            b_y = Variable(labels).to(device)   # batch y\n",
    "            output = cnn(b_x)[0].to(device)\n",
    "            loss = loss_function(output, b_y)\n",
    "            \n",
    "            # clear gradients for this training step   \n",
    "            optimizer.zero_grad()           \n",
    "            \n",
    "            # backpropagation, compute gradients \n",
    "            loss.backward()    \n",
    "            # apply gradients             \n",
    "            optimizer.step()                \n",
    "            \n",
    "            if (i+1) % 100 == 0:\n",
    "                eval_acc = test(size=10)\n",
    "                print ('Epoch [{}/{}], Step [{}/{}], Loss: {:.4f}, eval_acc: {:.4f}' \n",
    "                       .format(epoch + 1, num_epochs, i + 1, total_step, loss.item(), eval_acc))\n",
    "                wandb.log({\n",
    "                    'eval_acc': eval_acc,\n",
    "                    'loss': loss.item(),\n",
    "                    'epoch': epoch+1,\n",
    "                    'batch': i + 1}\n",
    "                )\n",
    "                pass\n",
    "        accuracy = test()\n",
    "        print ('Epoch [{}/{}], eval_acc: {:.4f}' \n",
    "                       .format(epoch + 1, num_epochs, eval_acc))\n",
    "        wandb.log({\n",
    "                    'accuracy': accuracy\n",
    "        })\n",
    "        pass\n",
    "    pass\n",
    "train(num_epochs, net, loaders)"
   ]
  },
  {
   "cell_type": "code",
   "execution_count": 9,
   "id": "b70096e0-0fed-4f3b-ac2f-64fc93d4724b",
   "metadata": {},
   "outputs": [
    {
     "data": {
      "text/html": [
       "Waiting for W&B process to finish... <strong style=\"color:green\">(success).</strong>"
      ],
      "text/plain": [
       "<IPython.core.display.HTML object>"
      ]
     },
     "metadata": {},
     "output_type": "display_data"
    },
    {
     "data": {
      "text/html": [
       "<style>\n",
       "    table.wandb td:nth-child(1) { padding: 0 10px; text-align: left ; width: auto;} td:nth-child(2) {text-align: left ; width: 100%}\n",
       "    .wandb-row { display: flex; flex-direction: row; flex-wrap: wrap; justify-content: flex-start; width: 100% }\n",
       "    .wandb-col { display: flex; flex-direction: column; flex-basis: 100%; flex: 1; padding: 10px; }\n",
       "    </style>\n",
       "<div class=\"wandb-row\"><div class=\"wandb-col\"><h3>Run history:</h3><br/><table class=\"wandb\"><tr><td>accuracy</td><td>▅▁▆██▆█▅▆▅</td></tr><tr><td>batch</td><td>▁▂▅▇▁▂▅▇▁▂▅▇▁▂▅▇▁▂▅▇▁▂▅▇▁▂▅▇▁▂▅▇▁▂▅▇▁▂▅█</td></tr><tr><td>epoch</td><td>▁▁▁▁▂▂▂▂▃▃▃▃▃▃▃▃▄▄▄▄▅▅▅▅▆▆▆▆▆▆▆▆▇▇▇▇████</td></tr><tr><td>eval_acc</td><td>▁▅▆█▅█▇▇█▇██▇██▆███▇███▇▇█▇████▇████████</td></tr><tr><td>loss</td><td>█▃▃▃▂▃▂▃▃▁▂▂▁▁▂▁▂▁▁▂▁▁▁▁▁▂▂▁▁▁▂▁▂▁▁▁▁▁▁▁</td></tr></table><br/></div><div class=\"wandb-col\"><h3>Run summary:</h3><br/><table class=\"wandb\"><tr><td>accuracy</td><td>0.98</td></tr><tr><td>batch</td><td>600</td></tr><tr><td>epoch</td><td>10</td></tr><tr><td>eval_acc</td><td>1.0</td></tr><tr><td>loss</td><td>0.0084</td></tr></table><br/></div></div>"
      ],
      "text/plain": [
       "<IPython.core.display.HTML object>"
      ]
     },
     "metadata": {},
     "output_type": "display_data"
    },
    {
     "data": {
      "text/html": [
       "Synced <strong style=\"color:#cdcd00\">fresh-puddle-16</strong>: <a href=\"https://wandb.ai/lindlaaa/mnist-conv/runs/1os2f1ug\" target=\"_blank\">https://wandb.ai/lindlaaa/mnist-conv/runs/1os2f1ug</a><br/>Synced 5 W&B file(s), 0 media file(s), 0 artifact file(s) and 0 other file(s)"
      ],
      "text/plain": [
       "<IPython.core.display.HTML object>"
      ]
     },
     "metadata": {},
     "output_type": "display_data"
    },
    {
     "data": {
      "text/html": [
       "Find logs at: <code>.\\wandb\\run-20221108_114649-1os2f1ug\\logs</code>"
      ],
      "text/plain": [
       "<IPython.core.display.HTML object>"
      ]
     },
     "metadata": {},
     "output_type": "display_data"
    }
   ],
   "source": [
    "wandb.finish()"
   ]
  },
  {
   "cell_type": "code",
   "execution_count": null,
   "id": "d4e5dae2-625f-4013-ac24-9595fc963975",
   "metadata": {},
   "outputs": [],
   "source": []
  },
  {
   "cell_type": "code",
   "execution_count": null,
   "id": "98b6af43-4111-4f5b-85de-f826139cf0f2",
   "metadata": {},
   "outputs": [],
   "source": []
  },
  {
   "cell_type": "code",
   "execution_count": null,
   "id": "91cb819f-04c1-42d8-a68c-3e9584fde06c",
   "metadata": {},
   "outputs": [],
   "source": []
  },
  {
   "cell_type": "code",
   "execution_count": null,
   "id": "e4a61a8b-0658-4f16-9a2f-769056e0deb4",
   "metadata": {},
   "outputs": [],
   "source": []
  }
 ],
 "metadata": {
  "kernelspec": {
   "display_name": "Python 3 (ipykernel)",
   "language": "python",
   "name": "python3"
  },
  "language_info": {
   "codemirror_mode": {
    "name": "ipython",
    "version": 3
   },
   "file_extension": ".py",
   "mimetype": "text/x-python",
   "name": "python",
   "nbconvert_exporter": "python",
   "pygments_lexer": "ipython3",
   "version": "3.9.13"
  }
 },
 "nbformat": 4,
 "nbformat_minor": 5
}
